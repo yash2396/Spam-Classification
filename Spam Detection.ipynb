{
 "cells": [
  {
   "cell_type": "code",
   "execution_count": null,
   "metadata": {},
   "outputs": [],
   "source": [
    "# Spam Detection\n",
    "\n",
    "# No of Folds\n",
    "KF = 10"
   ]
  },
  {
   "cell_type": "code",
   "execution_count": null,
   "metadata": {},
   "outputs": [],
   "source": [
    "# Importing the libraries\n",
    "import numpy as np\n",
    "import pandas as pd"
   ]
  },
  {
   "cell_type": "code",
   "execution_count": null,
   "metadata": {},
   "outputs": [],
   "source": [
    "# Importing the dataset\n",
    "dataset = pd.read_csv('spambase.data')\n",
    "X = dataset.iloc[:, :57].values\n",
    "y = dataset.iloc[:, 57].values"
   ]
  },
  {
   "cell_type": "code",
   "execution_count": null,
   "metadata": {},
   "outputs": [],
   "source": [
    "# Splitting the Dataset into K- Folds\n",
    "from sklearn.model_selection import KFold\n",
    "kf = KFold(n_splits=KF,shuffle=True) # Define the split - into KF folds and also shuffle the dataset "
   ]
  },
  {
   "cell_type": "code",
   "execution_count": null,
   "metadata": {},
   "outputs": [],
   "source": [
    "# Array C to store accuracy at each Fold\n",
    "C = np.zeros(KF)"
   ]
  },
  {
   "cell_type": "code",
   "execution_count": null,
   "metadata": {},
   "outputs": [],
   "source": [
    "# Importing the models\n",
    "from sklearn.preprocessing import StandardScaler\n",
    "from sklearn.linear_model import LogisticRegression\n",
    "from sklearn.neighbors import KNeighborsClassifier\n",
    "from sklearn.svm import SVC\n",
    "from sklearn.naive_bayes import GaussianNB\n",
    "from sklearn.tree import DecisionTreeClassifier\n",
    "from sklearn.ensemble import RandomForestClassifier"
   ]
  },
  {
   "cell_type": "code",
   "execution_count": null,
   "metadata": {},
   "outputs": [],
   "source": [
    "# Number of different models on which KFold will be run\n",
    "n = 9"
   ]
  },
  {
   "cell_type": "code",
   "execution_count": null,
   "metadata": {},
   "outputs": [],
   "source": [
    "# Looping through each of the 18 models and performing KFold CV in each case\n",
    "maxi = 0 # Max accuracy across all models\n",
    "index = 0 # Name of model giving max accuracy\n",
    "    \n",
    "for i in range(n):\n",
    "    k = 0\n",
    "    from prettytable import PrettyTable\n",
    "    pt = PrettyTable()\n",
    "    pt.field_names = [\"Classifier\",\n",
    "                 \"KFold Iteration\",\n",
    "                 \"False Positives\",\n",
    "                 \"False Negative\",\n",
    "                 \"Accuracy\"]\n",
    "    # For each train test split in the KFold\n",
    "    for train_index, test_index in kf.split(X):\n",
    "        s = \"\"\n",
    "        X_train, X_test = X[train_index], X[test_index]\n",
    "        y_train, y_test = y[train_index], y[test_index]\n",
    "        \n",
    "        # Feature Scaling\n",
    "        sc = StandardScaler()\n",
    "        X_train = sc.fit_transform(X_train)\n",
    "        X_test = sc.transform(X_test)\n",
    "        \n",
    "        # Fitting Logistic Regression to the Training set\n",
    "        if i == 0:\n",
    "            classifier = LogisticRegression(solver='liblinear')\n",
    "            s = \"Logistic Regression\"        \n",
    "        if i == 1:\n",
    "            classifier = KNeighborsClassifier(n_neighbors = 5)\n",
    "            s = \"KNeighborsClassifier 5 Neighbours\"        \n",
    "        if i == 2:\n",
    "            classifier = SVC(kernel = \"linear\")\n",
    "            s = \"SVC Linear\"        \n",
    "        if i == 3:\n",
    "            classifier = SVC(kernel = \"rbf\")\n",
    "            s = \"SVC rbf\"        \n",
    "        if i == 4:\n",
    "            classifier = GaussianNB()\n",
    "            s = \"GaussianNB\"        \n",
    "        if i == 5:\n",
    "            classifier = DecisionTreeClassifier()\n",
    "            s = \"DecisionTreeClassifier\"        \n",
    "        if i == 6:\n",
    "            classifier = RandomForestClassifier(n_estimators = 100)\n",
    "            s = \"RandomForestClassifier n_estimators = 100\"        \n",
    "        if i == 7:\n",
    "            classifier = RandomForestClassifier(n_estimators = 150)\n",
    "            s = \"RandomForestClassifier n_estimators = 150\"        \n",
    "        if i == 8:\n",
    "            classifier = RandomForestClassifier(n_estimators = 200)\n",
    "            s = \"RandomForestClassifier n_estimators = 200\"        \n",
    "        classifier.fit(X_train, y_train)\n",
    "        \n",
    "        # Predicting the Test set results\n",
    "        y_pred = classifier.predict(X_test)\n",
    "\n",
    "        # Making the Confusion Matrix\n",
    "        from sklearn.metrics import confusion_matrix\n",
    "        cm = confusion_matrix(y_test, y_pred)\n",
    "        # Finding the Flase Negatives\n",
    "        FN = cm[1][0]\n",
    "        \n",
    "        # Finding the False Positives\n",
    "        FP = cm[0][1]\n",
    "        \n",
    "        # Calculating the accuracy\n",
    "        score = round(classifier.score(X_test, y_test)*100,2)\n",
    "        \n",
    "        C[k] = score\n",
    "        k += 1\n",
    "        \n",
    "        # Adding a row to the table\n",
    "        pt.add_row([s,k, FN,FP,score])\n",
    "        \n",
    "        \n",
    "    avg = np.mean(C)\n",
    "    \n",
    "    # Adding the final row to the table\n",
    "    pt.add_row([s,\"AVG\", \"-\",\"-\",round(avg,2).astype(str)])\n",
    "        \n",
    "    print(pt)\n",
    "    if avg > maxi:\n",
    "        maxi =avg\n",
    "        index = s\n"
   ]
  },
  {
   "cell_type": "code",
   "execution_count": null,
   "metadata": {},
   "outputs": [],
   "source": [
    "print(KF,\" Fold :\",index,\" : \",maxi)"
   ]
  }
 ],
 "metadata": {
  "kernelspec": {
   "display_name": "Python 3",
   "language": "python",
   "name": "python3"
  },
  "language_info": {
   "codemirror_mode": {
    "name": "ipython",
    "version": 3
   },
   "file_extension": ".py",
   "mimetype": "text/x-python",
   "name": "python",
   "nbconvert_exporter": "python",
   "pygments_lexer": "ipython3",
   "version": "3.7.1"
  }
 },
 "nbformat": 4,
 "nbformat_minor": 2
}
